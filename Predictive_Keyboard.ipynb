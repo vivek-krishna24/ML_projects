{
 "cells": [
  {
   "cell_type": "code",
   "execution_count": 1,
   "id": "e927ab1b-f03f-47b2-a76f-c1f7b0c4e03a",
   "metadata": {},
   "outputs": [
    {
     "name": "stderr",
     "output_type": "stream",
     "text": [
      "[nltk_data] Downloading package punkt to\n",
      "[nltk_data]     C:\\Users\\vivek\\AppData\\Roaming\\nltk_data...\n",
      "[nltk_data]   Package punkt is already up-to-date!\n",
      "[nltk_data] Downloading package punkt_tab to\n",
      "[nltk_data]     C:\\Users\\vivek\\AppData\\Roaming\\nltk_data...\n",
      "[nltk_data]   Package punkt_tab is already up-to-date!\n"
     ]
    },
    {
     "name": "stdout",
     "output_type": "stream",
     "text": [
      "Total Tokens: 125772\n"
     ]
    }
   ],
   "source": [
    "import nltk\n",
    "from nltk.tokenize import word_tokenize\n",
    "nltk.download('punkt')\n",
    "nltk.download('punkt_tab')\n",
    "\n",
    "# load data\n",
    "with open(r\"C:\\Users\\vivek\\Downloads\\3dd01-book\\sherlock-holm.es_stories_plain-text_advs.txt\", 'r', encoding='utf-8') as f:\n",
    "    text = f.read().lower()\n",
    "\n",
    "\n",
    "tokens = word_tokenize(text)\n",
    "print(\"Total Tokens:\", len(tokens))"
   ]
  },
  {
   "cell_type": "code",
   "execution_count": 2,
   "id": "0bbc8ad4-974b-4c2d-b312-3e20b9d7d874",
   "metadata": {},
   "outputs": [],
   "source": [
    "from collections import Counter\n",
    "\n",
    "word_counts = Counter(tokens)\n",
    "vocab = sorted(word_counts, key=word_counts.get, reverse=True)\n",
    "\n",
    "word2idx = {word: idx for idx, word in enumerate(vocab)}\n",
    "idx2word = {idx: word for word, idx in word2idx.items()}\n",
    "vocab_size = len(vocab)"
   ]
  },
  {
   "cell_type": "code",
   "execution_count": 3,
   "id": "7af5b4ac-e432-4ab5-813f-e880083741a5",
   "metadata": {},
   "outputs": [],
   "source": [
    "import torch  # <-- add this line\n",
    "\n",
    "sequence_length = 4  # e.g., \"I am going to [predict this]\"\n",
    "\n",
    "data = []\n",
    "for i in range(len(tokens) - sequence_length):\n",
    "    input_seq = tokens[i:i + sequence_length - 1]\n",
    "    target = tokens[i + sequence_length - 1]\n",
    "    data.append((input_seq, target))\n",
    "\n",
    "# convert words to indices\n",
    "def encode(seq):\n",
    "    return [word2idx[word] for word in seq]\n",
    "\n",
    "encoded_data = [\n",
    "    (torch.tensor(encode(inp)), torch.tensor(word2idx[target]))\n",
    "    for inp, target in data\n",
    "]\n"
   ]
  },
  {
   "cell_type": "code",
   "execution_count": 4,
   "id": "140d0692-819e-42ac-acb6-5eea8fabf150",
   "metadata": {},
   "outputs": [],
   "source": [
    "import torch.nn as nn\n",
    "\n",
    "class PredictiveKeyboard(nn.Module):\n",
    "    def __init__(self, vocab_size, embed_dim=64, hidden_dim=128):\n",
    "        super(PredictiveKeyboard, self).__init__()\n",
    "        self.embedding = nn.Embedding(vocab_size, embed_dim)\n",
    "        self.lstm = nn.LSTM(embed_dim, hidden_dim, batch_first=True)\n",
    "        self.fc = nn.Linear(hidden_dim, vocab_size)\n",
    "\n",
    "    def forward(self, x):\n",
    "        x = self.embedding(x)\n",
    "        output, _ = self.lstm(x)\n",
    "        output = self.fc(output[:, -1, :])  # last LSTM output\n",
    "        return output"
   ]
  },
  {
   "cell_type": "code",
   "execution_count": 5,
   "id": "7a851744-ea28-404e-887e-1e30823a5662",
   "metadata": {},
   "outputs": [
    {
     "name": "stdout",
     "output_type": "stream",
     "text": [
      "Epoch 1, Loss: 65421.0239\n"
     ]
    }
   ],
   "source": [
    "import torch\n",
    "import torch.optim as optim\n",
    "import random\n",
    "\n",
    "model = PredictiveKeyboard(vocab_size)\n",
    "criterion = nn.CrossEntropyLoss()\n",
    "optimizer = optim.Adam(model.parameters(), lr=0.005)\n",
    "\n",
    "epochs = 1\n",
    "for epoch in range(epochs):\n",
    "    total_loss = 0\n",
    "    random.shuffle(encoded_data)\n",
    "    for input_seq, target in encoded_data[:10000]:  # Limit data for speed\n",
    "        input_seq = input_seq.unsqueeze(0)\n",
    "        output = model(input_seq)\n",
    "        loss = criterion(output, target.unsqueeze(0))\n",
    "\n",
    "        optimizer.zero_grad()\n",
    "        loss.backward()\n",
    "        optimizer.step()\n",
    "        total_loss += loss.item()\n",
    "\n",
    "    print(f\"Epoch {epoch+1}, Loss: {total_loss:.4f}\")"
   ]
  },
  {
   "cell_type": "code",
   "execution_count": 6,
   "id": "1186073c-e502-4196-aacf-1e6082d284c1",
   "metadata": {},
   "outputs": [
    {
     "name": "stdout",
     "output_type": "stream",
     "text": [
      "Suggestions: ['the', 'it', 'i']\n"
     ]
    }
   ],
   "source": [
    "import torch.nn.functional as F\n",
    "\n",
    "def suggest_next_words(model, text_prompt, top_k=3):\n",
    "    model.eval()\n",
    "    tokens = word_tokenize(text_prompt.lower())\n",
    "    if len(tokens) < sequence_length - 1:\n",
    "        raise ValueError(f\"Input should be at least {sequence_length - 1} words long.\")\n",
    "\n",
    "    input_seq = tokens[-(sequence_length - 1):]\n",
    "    input_tensor = torch.tensor(encode(input_seq)).unsqueeze(0)\n",
    "\n",
    "    with torch.no_grad():\n",
    "        output = model(input_tensor)\n",
    "        probs = F.softmax(output, dim=1).squeeze()\n",
    "        top_indices = torch.topk(probs, top_k).indices.tolist()\n",
    "\n",
    "    return [idx2word[idx] for idx in top_indices]\n",
    "\n",
    "print(\"Suggestions:\", suggest_next_words(model, \"So, are we really at\"))"
   ]
  },
  {
   "cell_type": "code",
   "execution_count": null,
   "id": "cbb13897-e1ca-4105-8a64-3ade9f5e4c9f",
   "metadata": {},
   "outputs": [],
   "source": []
  }
 ],
 "metadata": {
  "kernelspec": {
   "display_name": "Python 3 (ipykernel)",
   "language": "python",
   "name": "python3"
  },
  "language_info": {
   "codemirror_mode": {
    "name": "ipython",
    "version": 3
   },
   "file_extension": ".py",
   "mimetype": "text/x-python",
   "name": "python",
   "nbconvert_exporter": "python",
   "pygments_lexer": "ipython3",
   "version": "3.13.5"
  }
 },
 "nbformat": 4,
 "nbformat_minor": 5
}
